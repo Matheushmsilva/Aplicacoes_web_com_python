{
  "nbformat": 4,
  "nbformat_minor": 0,
  "metadata": {
    "colab": {
      "provenance": []
    },
    "kernelspec": {
      "name": "python3",
      "display_name": "Python 3"
    },
    "language_info": {
      "name": "python"
    }
  },
  "cells": [
    {
      "cell_type": "markdown",
      "source": [
        "AULA 07 >> Matheus Monte"
      ],
      "metadata": {
        "id": "e-RqAlHU6aT8"
      }
    },
    {
      "cell_type": "code",
      "source": [
        "#.... pulando algumas paginas do slide (Anotar)"
      ],
      "metadata": {
        "id": "mbJ0tVzl7Cnb"
      },
      "execution_count": null,
      "outputs": []
    },
    {
      "cell_type": "markdown",
      "source": [
        "Exercicios"
      ],
      "metadata": {
        "id": "irpIbJLvJ1Tr"
      }
    },
    {
      "cell_type": "code",
      "source": [
        "#Faca um programa para imprimir:\n",
        "#Para um n informado pelo usuario. Use uma funcao que receba um valor n inteiro e imprima ate a n-esima linha.\n",
        "#1\n",
        "#22\n",
        "#333"
      ],
      "metadata": {
        "id": "w6KYxpsVJ3y0"
      },
      "execution_count": null,
      "outputs": []
    },
    {
      "cell_type": "code",
      "source": [
        "input=(n):\n",
        "print(range(1, n+1))"
      ],
      "metadata": {
        "colab": {
          "base_uri": "https://localhost:8080/",
          "height": 130
        },
        "id": "sgrVv-MKMcuF",
        "outputId": "b76736e7-560a-4aee-ad7c-638124fd6eb0"
      },
      "execution_count": null,
      "outputs": [
        {
          "output_type": "error",
          "ename": "SyntaxError",
          "evalue": "ignored",
          "traceback": [
            "\u001b[0;36m  File \u001b[0;32m\"<ipython-input-10-be1e94c65043>\"\u001b[0;36m, line \u001b[0;32m1\u001b[0m\n\u001b[0;31m    input=(n):\u001b[0m\n\u001b[0m             ^\u001b[0m\n\u001b[0;31mSyntaxError\u001b[0m\u001b[0;31m:\u001b[0m invalid syntax\n"
          ]
        }
      ]
    },
    {
      "cell_type": "code",
      "source": [
        "#o usuario ira inserir o valor de n, onde n ira ser repitido a quantidade de vezes (range) de (1, n+1): apos isso ira printar o valor repetidas vezes o quanto ele foi multipplicado.\n",
        "#Ou seja, o string e multiplicado para aparecer mais vezes, e nao para mudar o valor do numero.\n",
        "def ex1(n):\n",
        "  for i in range(1, n+1):\n",
        "    print((str(i)+ ' ')*i)"
      ],
      "metadata": {
        "id": "YhON_YXJKV_i"
      },
      "execution_count": null,
      "outputs": []
    },
    {
      "cell_type": "code",
      "source": [
        "obj1 = ex1(8)"
      ],
      "metadata": {
        "colab": {
          "base_uri": "https://localhost:8080/"
        },
        "id": "hDPYdJuxLYiP",
        "outputId": "194bbd88-f786-4d85-b98d-1c2a128aa03d"
      },
      "execution_count": null,
      "outputs": [
        {
          "output_type": "stream",
          "name": "stdout",
          "text": [
            "1 \n",
            "2 2 \n",
            "3 3 3 \n",
            "4 4 4 4 \n",
            "5 5 5 5 5 \n",
            "6 6 6 6 6 6 \n",
            "7 7 7 7 7 7 7 \n",
            "8 8 8 8 8 8 8 8 \n"
          ]
        }
      ]
    },
    {
      "cell_type": "code",
      "source": [
        "def ex1(n):\n",
        "  for i in range(3, n+3):\n",
        "    print((str(i)+ ' ')*i)"
      ],
      "metadata": {
        "id": "BfiVpqVCMWJW"
      },
      "execution_count": null,
      "outputs": []
    },
    {
      "cell_type": "code",
      "source": [
        "obj2 = ex1(10)"
      ],
      "metadata": {
        "colab": {
          "base_uri": "https://localhost:8080/"
        },
        "id": "YjI_H-TnN94j",
        "outputId": "1d118f19-45bb-45ee-efb7-767122062771"
      },
      "execution_count": null,
      "outputs": [
        {
          "output_type": "stream",
          "name": "stdout",
          "text": [
            "3 3 3 \n",
            "4 4 4 4 \n",
            "5 5 5 5 5 \n",
            "6 6 6 6 6 6 \n",
            "7 7 7 7 7 7 7 \n",
            "8 8 8 8 8 8 8 8 \n",
            "9 9 9 9 9 9 9 9 9 \n",
            "10 10 10 10 10 10 10 10 10 10 \n",
            "11 11 11 11 11 11 11 11 11 11 11 \n",
            "12 12 12 12 12 12 12 12 12 12 12 12 \n"
          ]
        }
      ]
    },
    {
      "cell_type": "code",
      "source": [
        "#Ex 2\n",
        "\n",
        "def ex2(x):\n",
        "  z = []\n",
        "  for i in range(1, x+1):\n",
        "    z.append(i) #Adicionar em z(lista) o valor i \n",
        "   # x +=1\n",
        "    print(z)\n",
        "\n"
      ],
      "metadata": {
        "id": "wO1F6LhuOBvD"
      },
      "execution_count": null,
      "outputs": []
    },
    {
      "cell_type": "code",
      "source": [
        "obj1 = ex2(int(input()))"
      ],
      "metadata": {
        "colab": {
          "base_uri": "https://localhost:8080/"
        },
        "id": "SE9o3_xUPGVk",
        "outputId": "24f09975-eac2-41c0-9343-6c271dc1f817"
      },
      "execution_count": null,
      "outputs": [
        {
          "output_type": "stream",
          "name": "stdout",
          "text": [
            "10\n",
            "[1]\n",
            "[1, 2]\n",
            "[1, 2, 3]\n",
            "[1, 2, 3, 4]\n",
            "[1, 2, 3, 4, 5]\n",
            "[1, 2, 3, 4, 5, 6]\n",
            "[1, 2, 3, 4, 5, 6, 7]\n",
            "[1, 2, 3, 4, 5, 6, 7, 8]\n",
            "[1, 2, 3, 4, 5, 6, 7, 8, 9]\n",
            "[1, 2, 3, 4, 5, 6, 7, 8, 9, 10]\n"
          ]
        }
      ]
    },
    {
      "cell_type": "code",
      "source": [
        "\n",
        "def ex2(x):\n",
        "  z = []\n",
        "  for i in range(1, x+1):\n",
        "    z.append(i) #Adicionar em z(lista) o valor i \n",
        "   # x +=1\n",
        "    print(z)"
      ],
      "metadata": {
        "id": "v422mRDkRgSK"
      },
      "execution_count": null,
      "outputs": []
    },
    {
      "cell_type": "code",
      "source": [
        "#Ex 3 -  faca um programa com uma funcao que necessite de tres argumentos, e que forneca a soma desses tres argumentos."
      ],
      "metadata": {
        "id": "5StMrEnCTnkk"
      },
      "execution_count": null,
      "outputs": []
    },
    {
      "cell_type": "code",
      "source": [
        "\n",
        "class Exemplo():\n",
        "  def __init__(self, num1, num2, num3):\n",
        "    self.num1 = num1\n",
        "    self.num2 = num2\n",
        "    self.num3 = num3\n",
        "\n",
        "  def somadeValores (self):\n",
        "    return  (int(num1 + num2 + num3))\n",
        "  \n",
        "valores = Exemplo (10, 20, 30)\n",
        "print(valores.somadeValores())\n",
        "\n"
      ],
      "metadata": {
        "colab": {
          "base_uri": "https://localhost:8080/"
        },
        "id": "CAbbscCATzoE",
        "outputId": "e668a055-04f5-4c56-9a87-460be4729dd8"
      },
      "execution_count": null,
      "outputs": [
        {
          "output_type": "stream",
          "name": "stdout",
          "text": [
            "101010\n"
          ]
        }
      ]
    },
    {
      "cell_type": "code",
      "source": [
        "num1 = input(str(\"Insira um valor: \"))    \n",
        "num2 = input(str(\"Insira um valor: \"))  \n",
        "num3 = input(str(\"Insira um valor: \"))\n",
        "\n",
        "class Exemplo():\n",
        "  def __init__(self, num1, num2, num3):\n",
        "    self.num1 = num1\n",
        "    self.num2 = num2\n",
        "    self.num3 = num3\n",
        "\n",
        "  def somadeValores (self):\n",
        "    return  (int(num1 + num2 + num3))\n",
        "  \n",
        "valores = Exemplo (10, 20, 30)\n",
        "print(valores.somadeValores())"
      ],
      "metadata": {
        "id": "fZuNHRDgbaLl"
      },
      "execution_count": null,
      "outputs": []
    },
    {
      "cell_type": "code",
      "source": [
        "def exercicio03(n1,n2,n3):\n",
        "  return n1 + n2 + n3"
      ],
      "metadata": {
        "id": "mkNfpQ1bWuXs"
      },
      "execution_count": null,
      "outputs": []
    },
    {
      "cell_type": "code",
      "source": [
        "print(exercicio03(15,20,30))"
      ],
      "metadata": {
        "colab": {
          "base_uri": "https://localhost:8080/"
        },
        "id": "PuTnQxxNW9qK",
        "outputId": "588e4c44-6976-4e19-a56e-ac87c2d76ee3"
      },
      "execution_count": null,
      "outputs": [
        {
          "output_type": "stream",
          "name": "stdout",
          "text": [
            "65\n"
          ]
        }
      ]
    },
    {
      "cell_type": "code",
      "source": [
        "#ou\n",
        "obj2 = exercicio03(10,20,30)\n",
        "print(obj2)"
      ],
      "metadata": {
        "colab": {
          "base_uri": "https://localhost:8080/"
        },
        "id": "zQK_JZnYXC1H",
        "outputId": "9d65401f-f7f7-4239-81a4-b753c165f991"
      },
      "execution_count": null,
      "outputs": [
        {
          "output_type": "stream",
          "name": "stdout",
          "text": [
            "60\n"
          ]
        }
      ]
    },
    {
      "cell_type": "code",
      "source": [
        "#4 Faca um programa com uma funcao que necesite de um argumento. A funcao retorna o valor de caractere \"P\", se seu argumento for positivo, e \"N\", se seu argumento for zero ou negativo"
      ],
      "metadata": {
        "id": "vZquQAx2XNQN"
      },
      "execution_count": null,
      "outputs": []
    },
    {
      "cell_type": "code",
      "source": [
        "def char(e):\n",
        "  if e > 0:\n",
        "    print(\"P\")\n",
        "  else:\n",
        "    print(\"N\")"
      ],
      "metadata": {
        "id": "XOD2xqDyY1bU"
      },
      "execution_count": null,
      "outputs": []
    },
    {
      "cell_type": "code",
      "source": [
        "objchar = char(int(input(\"Digite um valor inteiro: \")))"
      ],
      "metadata": {
        "colab": {
          "base_uri": "https://localhost:8080/"
        },
        "id": "llgRGyiEZDxv",
        "outputId": "9aed3dc7-f02c-44e3-e3c7-bbb3dc10ba3e"
      },
      "execution_count": null,
      "outputs": [
        {
          "output_type": "stream",
          "name": "stdout",
          "text": [
            "Digite um valor inteiro: 100\n",
            "P\n"
          ]
        }
      ]
    },
    {
      "cell_type": "code",
      "source": [
        "#5 baseado na questao da aula 5 passada \n",
        "\n",
        "def somaImposto(taxaImposto, custo):\n",
        "  taxa = taxaImposto /100\n",
        "  custo = custo\n",
        "  custoAlterado = (custo * taxa) + custo\n",
        "  return custoAlterado"
      ],
      "metadata": {
        "id": "qtiIfAdjZJ4C"
      },
      "execution_count": null,
      "outputs": []
    },
    {
      "cell_type": "code",
      "source": [
        "obj = somaImposto(20, 100)\n",
        "print(obj)"
      ],
      "metadata": {
        "colab": {
          "base_uri": "https://localhost:8080/"
        },
        "id": "jdSbEZzZb5Bx",
        "outputId": "338950d5-e938-4ca1-9418-ee56eff40f45"
      },
      "execution_count": null,
      "outputs": [
        {
          "output_type": "stream",
          "name": "stdout",
          "text": [
            "120.0\n"
          ]
        }
      ]
    },
    {
      "cell_type": "code",
      "source": [
        "def somaImposto(taxaimposto, custo):\n",
        "  print((0.01*taxaimposto)*custo + custo)"
      ],
      "metadata": {
        "id": "7X_e6cA5b-fJ"
      },
      "execution_count": null,
      "outputs": []
    },
    {
      "cell_type": "code",
      "source": [
        "obj2 = somaImposto(10,100)"
      ],
      "metadata": {
        "colab": {
          "base_uri": "https://localhost:8080/"
        },
        "id": "ROL7nJIPdG3y",
        "outputId": "ff50e0a7-7346-4f64-ac9f-fe780a076ea8"
      },
      "execution_count": null,
      "outputs": [
        {
          "output_type": "stream",
          "name": "stdout",
          "text": [
            "110.0\n"
          ]
        }
      ]
    },
    {
      "cell_type": "code",
      "source": [
        "#9 Reverso do numero. faca uma funcao que retorne o reverso de um numero inteiro informado. por exemplo: 127 > 721"
      ],
      "metadata": {
        "id": "mSxHBxgrdLLn"
      },
      "execution_count": null,
      "outputs": []
    },
    {
      "cell_type": "code",
      "source": [
        "valor = num = input(\"Insira o seu primeiro nome:\")\n",
        "nome2=num[::-1]\n",
        "print(nome2)"
      ],
      "metadata": {
        "colab": {
          "base_uri": "https://localhost:8080/"
        },
        "id": "VFkW3wu3enwc",
        "outputId": "fd9f4ba9-dccd-4340-a611-5f902679f1d4"
      },
      "execution_count": null,
      "outputs": [
        {
          "output_type": "stream",
          "name": "stdout",
          "text": [
            "Insira o seu primeiro nome:120\n",
            "021\n"
          ]
        }
      ]
    },
    {
      "cell_type": "code",
      "source": [
        "def reverse(x):\n",
        "  print(x[-1:-(len(x)+1):-1])"
      ],
      "metadata": {
        "id": "WURr0vyneq_f"
      },
      "execution_count": null,
      "outputs": []
    },
    {
      "cell_type": "code",
      "source": [
        "obj1 = reverse(input(\"Digite um valor: \"))"
      ],
      "metadata": {
        "colab": {
          "base_uri": "https://localhost:8080/"
        },
        "id": "RcyL85lifnj6",
        "outputId": "120ad48f-a3da-4e38-be24-f91a0ea5ff06"
      },
      "execution_count": null,
      "outputs": [
        {
          "output_type": "stream",
          "name": "stdout",
          "text": [
            "Digite um valor: 120\n",
            "021\n"
          ]
        }
      ]
    },
    {
      "cell_type": "code",
      "source": [
        "def exe9(n):\n",
        "  inverso=str(n)\n",
        "  print(inverso[::-1])"
      ],
      "metadata": {
        "id": "U4BxYUWrfsYM"
      },
      "execution_count": null,
      "outputs": []
    },
    {
      "cell_type": "code",
      "source": [
        "ooo = exe9(120)"
      ],
      "metadata": {
        "id": "RdjQ5D4kgfGt",
        "outputId": "3bc34211-e09f-4379-b9bf-cea6a69da461",
        "colab": {
          "base_uri": "https://localhost:8080/"
        }
      },
      "execution_count": null,
      "outputs": [
        {
          "output_type": "stream",
          "name": "stdout",
          "text": [
            "021\n"
          ]
        }
      ]
    },
    {
      "cell_type": "code",
      "source": [],
      "metadata": {
        "id": "hXInvsSBgic3"
      },
      "execution_count": null,
      "outputs": []
    }
  ]
}