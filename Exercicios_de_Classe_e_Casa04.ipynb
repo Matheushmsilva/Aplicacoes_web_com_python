{
  "nbformat": 4,
  "nbformat_minor": 0,
  "metadata": {
    "colab": {
      "provenance": []
    },
    "kernelspec": {
      "name": "python3",
      "display_name": "Python 3"
    },
    "language_info": {
      "name": "python"
    }
  },
  "cells": [
    {
      "cell_type": "code",
      "source": [
        "#Matheus Henrique Monte da Silva"
      ],
      "metadata": {
        "id": "ChOg38KAVXLI"
      },
      "execution_count": null,
      "outputs": []
    },
    {
      "cell_type": "code",
      "execution_count": null,
      "metadata": {
        "colab": {
          "base_uri": "https://localhost:8080/"
        },
        "id": "8rNVZOfSv_jE",
        "outputId": "e9ddbc62-0668-4dbd-f89c-af0bb8017d8e"
      },
      "outputs": [
        {
          "output_type": "stream",
          "name": "stdout",
          "text": [
            "Digite um número: 20\n",
            "Digite um número: 30\n",
            "Digite um número: 50\n",
            "Digite um número: 7\n",
            "Digite um número: 6\n",
            "Digite um número: 5\n",
            "Digite um número: 9\n",
            "Digite um número: 10\n",
            "Digite um número: 3\n",
            "Digite um número: 75\n",
            "a quantidade total de pares é:  5\n",
            "a quantidade total de impares é:  5\n"
          ]
        }
      ],
      "source": [
        "#Desafio 01\n",
        "par=0\n",
        "impar=0\n",
        "\n",
        "for perguntas in range(10):\n",
        "  numeros = int(input('Digite um número: '))\n",
        "  if (numeros % 2) == 0: par=par+1\n",
        "  else: impar = impar +1\n",
        "\n",
        "print('a quantidade total de pares é: ', par)\n",
        "print('a quantidade total de impares é: ', impar)"
      ]
    },
    {
      "cell_type": "code",
      "source": [
        "#Desafio 01\n",
        "par=0\n",
        "impar=0\n",
        "\n",
        "for perguntas in range(10):\n",
        "  numeros = int(input('Digite um número: '))\n",
        "  if (numeros % 2) == 0: par=par+1\n",
        "  if (numeros % 2) !=0: impar = impar +1\n",
        "\n",
        "print('a quantidade total de pares é: ', par)\n",
        "print('a quantidade total de impares é: ', impar)"
      ],
      "metadata": {
        "colab": {
          "base_uri": "https://localhost:8080/"
        },
        "id": "r1a6miACz-4O",
        "outputId": "aafe5681-1b19-4de2-e2a1-6eb124669182"
      },
      "execution_count": null,
      "outputs": [
        {
          "output_type": "stream",
          "name": "stdout",
          "text": [
            "Digite um número: 5\n",
            "Digite um número: 3\n",
            "Digite um número: 2\n",
            "Digite um número: 1\n",
            "Digite um número: 6\n",
            "Digite um número: 9\n",
            "Digite um número: 8\n",
            "Digite um número: 2\n",
            "Digite um número: 70\n",
            "Digite um número: 77\n",
            "a quantidade total de pares é:  5\n",
            "a quantidade total de impares é:  5\n"
          ]
        }
      ]
    },
    {
      "cell_type": "code",
      "source": [
        "#Desafio 02 \n",
        "dias_uteis = (\"SEGUNDA\",\"TERÇA\",\"QUARTA\",\"QUINTA\",\"SEXTA\")\n",
        "final_de_semana = (\"SABADO\",\"DOMINGO\")\n",
        "dia_da_semana = (str(input(\"Meu véi, que dia é hoje? \")))\n",
        "\n",
        "dia_da_semana.upper()\n",
        "\n",
        "if dia_da_semana == dias_uteis:\n",
        "    print(\"Vai trabalhar, que a netflix vem na fatura!\")\n",
        "else:\n",
        "  print(\"Hoje é final de semana. Será que vai rolar uma prainha? \")\n"
      ],
      "metadata": {
        "colab": {
          "base_uri": "https://localhost:8080/"
        },
        "id": "dFQ-Kahd6NIF",
        "outputId": "be672107-1a28-4f5b-96ed-323ad80c9d3c"
      },
      "execution_count": null,
      "outputs": [
        {
          "output_type": "stream",
          "name": "stdout",
          "text": [
            "Meu véi, hoje que dia é hoje? domingo\n",
            "Hoje é final de semana. Será que vai rolar uma prainha? \n"
          ]
        }
      ]
    },
    {
      "cell_type": "code",
      "source": [
        "#Desafio 03\n",
        "\n",
        "x=[]\n",
        "valor = int(input(\"Digite quantos números você quer:\"))\n",
        "x += [numeros]\n",
        "for numeros in range(valor): \n",
        "\n",
        "  if (numeros % 2) == 0:\n",
        "   \n",
        "    print(\"Os valores pares são: \", numeros)\n",
        "\n",
        "else:\n",
        "  print(\"Valores impares multiplicados: \", numeros * numeros)\n",
        "print(\"valores da lista: \", x)"
      ],
      "metadata": {
        "colab": {
          "base_uri": "https://localhost:8080/"
        },
        "id": "sumWBRR06TwU",
        "outputId": "00d09024-ac0a-4c7c-8fff-734dc917f36a"
      },
      "execution_count": null,
      "outputs": [
        {
          "output_type": "stream",
          "name": "stdout",
          "text": [
            "Digite quantos números você quer:11\n",
            "Os valores pares são:  0\n",
            "Os valores pares são:  2\n",
            "Os valores pares são:  4\n",
            "Os valores pares são:  6\n",
            "Os valores pares são:  8\n",
            "Os valores pares são:  10\n",
            "Valores impares multiplicados:  100\n",
            "valores da lista:  [10]\n"
          ]
        }
      ]
    },
    {
      "cell_type": "code",
      "source": [
        "\n",
        "x=[]\n",
        "valor = int(input(\"Digite quantos números você quer:\"))\n",
        "x += [numeros]\n",
        "for numeros in range(valor): \n",
        "  if (numeros % 2) == 0:\n",
        "   \n",
        "    print(\"Os valores pares são: \", numeros)\n",
        "    \n",
        "  if (numeros % 2) != 0:\n",
        "    z=numeros\n",
        "    print(\"Valores impares multiplicados: \", z * z, \"valores da lista: \", x)"
      ],
      "metadata": {
        "colab": {
          "base_uri": "https://localhost:8080/"
        },
        "id": "VtcNSsPrPH0a",
        "outputId": "9dc47027-7859-42f9-92c6-4fe807fbedac"
      },
      "execution_count": null,
      "outputs": [
        {
          "output_type": "stream",
          "name": "stdout",
          "text": [
            "Digite quantos números você quer:11\n",
            "Os valores pares são:  0\n",
            "Valores impares multiplicados:  1 valores da lista:  [10]\n",
            "Os valores pares são:  2\n",
            "Valores impares multiplicados:  9 valores da lista:  [10]\n",
            "Os valores pares são:  4\n",
            "Valores impares multiplicados:  25 valores da lista:  [10]\n",
            "Os valores pares são:  6\n",
            "Valores impares multiplicados:  49 valores da lista:  [10]\n",
            "Os valores pares são:  8\n",
            "Valores impares multiplicados:  81 valores da lista:  [10]\n",
            "Os valores pares são:  10\n"
          ]
        }
      ]
    },
    {
      "cell_type": "code",
      "source": [
        "#4) Desafio\n",
        "\n",
        "palavra = str(input(\"Insira uma palara: \"))\n",
        "\n",
        "for indice, letra in enumerate(palavra):\n",
        "  print(\"Indice para a palavra inteira: \", indice, letra)\n",
        "for indice, letra in enumerate(palavra):\n",
        "\n",
        "  if letra == \"a\" or letra ==\"e\" or letra ==\"i\" or letra == \"o\" or letra ==\"u\":\n",
        "    print (\"Indice para as vogais da palavra: \", indice, letra)\n",
        "\n",
        "  "
      ],
      "metadata": {
        "colab": {
          "base_uri": "https://localhost:8080/"
        },
        "id": "WESqTCebSiCt",
        "outputId": "3c2ef226-b3b6-4910-ba4b-eefd3f456ff7"
      },
      "execution_count": null,
      "outputs": [
        {
          "output_type": "stream",
          "name": "stdout",
          "text": [
            "Insira uma palara: leagueoflegends\n",
            "Indice para a palavra inteira:  0 l\n",
            "Indice para a palavra inteira:  1 e\n",
            "Indice para a palavra inteira:  2 a\n",
            "Indice para a palavra inteira:  3 g\n",
            "Indice para a palavra inteira:  4 u\n",
            "Indice para a palavra inteira:  5 e\n",
            "Indice para a palavra inteira:  6 o\n",
            "Indice para a palavra inteira:  7 f\n",
            "Indice para a palavra inteira:  8 l\n",
            "Indice para a palavra inteira:  9 e\n",
            "Indice para a palavra inteira:  10 g\n",
            "Indice para a palavra inteira:  11 e\n",
            "Indice para a palavra inteira:  12 n\n",
            "Indice para a palavra inteira:  13 d\n",
            "Indice para a palavra inteira:  14 s\n",
            "Indice para as vogais da palavra:  1 e\n",
            "Indice para as vogais da palavra:  2 a\n",
            "Indice para as vogais da palavra:  4 u\n",
            "Indice para as vogais da palavra:  5 e\n",
            "Indice para as vogais da palavra:  6 o\n",
            "Indice para as vogais da palavra:  9 e\n",
            "Indice para as vogais da palavra:  11 e\n"
          ]
        }
      ]
    },
    {
      "cell_type": "code",
      "source": [
        "# 1) Ativiade de Casa\n",
        "for nome in [\"Reginaldo\", \"Gisele Pintcher\", \"Scoob\", \"Marlene\", \"Zezinho\",\"Cibele\", \"Suely\"]:\n",
        "\n",
        "  convite = (\"Oi, \" + nome + \"! Por favor, venha para o sábado pet em minha casa!\")\n",
        "\n",
        "  print(convite)"
      ],
      "metadata": {
        "colab": {
          "base_uri": "https://localhost:8080/"
        },
        "id": "lwxdTLl3WVdi",
        "outputId": "3fdfd0bd-335a-4265-d402-a22f3929c579"
      },
      "execution_count": null,
      "outputs": [
        {
          "output_type": "stream",
          "name": "stdout",
          "text": [
            "Oi, Reginaldo! Por facor, venha paa o sábado pet em minha casa!\n",
            "Oi, Gisele Pintcher! Por facor, venha paa o sábado pet em minha casa!\n",
            "Oi, Scoob! Por facor, venha paa o sábado pet em minha casa!\n",
            "Oi, Marlene! Por facor, venha paa o sábado pet em minha casa!\n",
            "Oi, Zezinho! Por facor, venha paa o sábado pet em minha casa!\n",
            "Oi, Cibele! Por facor, venha paa o sábado pet em minha casa!\n",
            "Oi, Suely! Por facor, venha paa o sábado pet em minha casa!\n"
          ]
        }
      ]
    },
    {
      "cell_type": "code",
      "source": [
        "#2) Atividade de Casa\n",
        "lista_frutas=[]\n",
        "\n",
        "for perguntas_fruta in range(5):\n",
        "  frutas=str(input(\"Insira cinco frutas: \"))\n",
        "  lista_frutas.append(frutas)\n",
        "  print(lista_frutas) \n",
        "\n",
        "print(\"Morango\" in lista_frutas)\n",
        "\n"
      ],
      "metadata": {
        "colab": {
          "base_uri": "https://localhost:8080/"
        },
        "id": "BsQVVDHAiyre",
        "outputId": "6cffc3e2-1695-4f0a-d765-c3fd8cd1983d"
      },
      "execution_count": null,
      "outputs": [
        {
          "output_type": "stream",
          "name": "stdout",
          "text": [
            "Insira cinco frutas: Maçã\n",
            "['Maçã']\n",
            "Insira cinco frutas: Uva\n",
            "['Maçã', 'Uva']\n",
            "Insira cinco frutas: Cajá\n",
            "['Maçã', 'Uva', 'Cajá']\n",
            "Insira cinco frutas: Morango\n",
            "['Maçã', 'Uva', 'Cajá', 'Morango']\n",
            "Insira cinco frutas: Laranja\n",
            "['Maçã', 'Uva', 'Cajá', 'Morango', 'Laranja']\n",
            "True\n"
          ]
        }
      ]
    },
    {
      "cell_type": "code",
      "source": [],
      "metadata": {
        "id": "pNm_QSZBof_E"
      },
      "execution_count": null,
      "outputs": []
    },
    {
      "cell_type": "code",
      "source": [
        "#3) Atividade de Casa\n",
        "for numeros in range(100,151):\n",
        "  if int(numeros % 2) == 0:\n",
        "    print(int(numeros))\n"
      ],
      "metadata": {
        "colab": {
          "base_uri": "https://localhost:8080/"
        },
        "id": "hBvitDDBz1zl",
        "outputId": "50d16113-5c51-4ed0-ae55-755a86027630"
      },
      "execution_count": null,
      "outputs": [
        {
          "output_type": "stream",
          "name": "stdout",
          "text": [
            "100\n",
            "102\n",
            "104\n",
            "106\n",
            "108\n",
            "110\n",
            "112\n",
            "114\n",
            "116\n",
            "118\n",
            "120\n",
            "122\n",
            "124\n",
            "126\n",
            "128\n",
            "130\n",
            "132\n",
            "134\n",
            "136\n",
            "138\n",
            "140\n",
            "142\n",
            "144\n",
            "146\n",
            "148\n",
            "150\n"
          ]
        }
      ]
    },
    {
      "cell_type": "code",
      "source": [
        "#4) Atividade de casa\n",
        "temperatura = 40\n",
        "while temperatura > 25:\n",
        "  temperatura -=1\n",
        "  print(\"Esta ficando mais frio: \", temperatura, \"ºc\")"
      ],
      "metadata": {
        "colab": {
          "base_uri": "https://localhost:8080/"
        },
        "id": "51Dvks9k3hX_",
        "outputId": "ad63398d-f333-4afa-ae48-7222ed83cfc4"
      },
      "execution_count": null,
      "outputs": [
        {
          "output_type": "stream",
          "name": "stdout",
          "text": [
            "Esta ficando mais frio:  39 ºc\n",
            "Esta ficando mais frio:  38 ºc\n",
            "Esta ficando mais frio:  37 ºc\n",
            "Esta ficando mais frio:  36 ºc\n",
            "Esta ficando mais frio:  35 ºc\n",
            "Esta ficando mais frio:  34 ºc\n",
            "Esta ficando mais frio:  33 ºc\n",
            "Esta ficando mais frio:  32 ºc\n",
            "Esta ficando mais frio:  31 ºc\n",
            "Esta ficando mais frio:  30 ºc\n",
            "Esta ficando mais frio:  29 ºc\n",
            "Esta ficando mais frio:  28 ºc\n",
            "Esta ficando mais frio:  27 ºc\n",
            "Esta ficando mais frio:  26 ºc\n",
            "Esta ficando mais frio:  25 ºc\n"
          ]
        }
      ]
    },
    {
      "cell_type": "code",
      "source": [
        "#5) Atividade de casa\n",
        "\n",
        "contador = 0\n",
        "while contador < 100:\n",
        "  contador +=1\n",
        "  print (\"Valores crescentes: \", contador)"
      ],
      "metadata": {
        "colab": {
          "base_uri": "https://localhost:8080/"
        },
        "id": "ChCTi5Az7K3r",
        "outputId": "e7dcbacd-c542-42d2-b57c-05eba69ba587"
      },
      "execution_count": null,
      "outputs": [
        {
          "output_type": "stream",
          "name": "stdout",
          "text": [
            "Valores crescentes:  1\n",
            "Valores crescentes:  2\n",
            "Valores crescentes:  3\n",
            "Valores crescentes:  4\n",
            "Valores crescentes:  5\n",
            "Valores crescentes:  6\n",
            "Valores crescentes:  7\n",
            "Valores crescentes:  8\n",
            "Valores crescentes:  9\n",
            "Valores crescentes:  10\n",
            "Valores crescentes:  11\n",
            "Valores crescentes:  12\n",
            "Valores crescentes:  13\n",
            "Valores crescentes:  14\n",
            "Valores crescentes:  15\n",
            "Valores crescentes:  16\n",
            "Valores crescentes:  17\n",
            "Valores crescentes:  18\n",
            "Valores crescentes:  19\n",
            "Valores crescentes:  20\n",
            "Valores crescentes:  21\n",
            "Valores crescentes:  22\n",
            "Valores crescentes:  23\n",
            "Valores crescentes:  24\n",
            "Valores crescentes:  25\n",
            "Valores crescentes:  26\n",
            "Valores crescentes:  27\n",
            "Valores crescentes:  28\n",
            "Valores crescentes:  29\n",
            "Valores crescentes:  30\n",
            "Valores crescentes:  31\n",
            "Valores crescentes:  32\n",
            "Valores crescentes:  33\n",
            "Valores crescentes:  34\n",
            "Valores crescentes:  35\n",
            "Valores crescentes:  36\n",
            "Valores crescentes:  37\n",
            "Valores crescentes:  38\n",
            "Valores crescentes:  39\n",
            "Valores crescentes:  40\n",
            "Valores crescentes:  41\n",
            "Valores crescentes:  42\n",
            "Valores crescentes:  43\n",
            "Valores crescentes:  44\n",
            "Valores crescentes:  45\n",
            "Valores crescentes:  46\n",
            "Valores crescentes:  47\n",
            "Valores crescentes:  48\n",
            "Valores crescentes:  49\n",
            "Valores crescentes:  50\n",
            "Valores crescentes:  51\n",
            "Valores crescentes:  52\n",
            "Valores crescentes:  53\n",
            "Valores crescentes:  54\n",
            "Valores crescentes:  55\n",
            "Valores crescentes:  56\n",
            "Valores crescentes:  57\n",
            "Valores crescentes:  58\n",
            "Valores crescentes:  59\n",
            "Valores crescentes:  60\n",
            "Valores crescentes:  61\n",
            "Valores crescentes:  62\n",
            "Valores crescentes:  63\n",
            "Valores crescentes:  64\n",
            "Valores crescentes:  65\n",
            "Valores crescentes:  66\n",
            "Valores crescentes:  67\n",
            "Valores crescentes:  68\n",
            "Valores crescentes:  69\n",
            "Valores crescentes:  70\n",
            "Valores crescentes:  71\n",
            "Valores crescentes:  72\n",
            "Valores crescentes:  73\n",
            "Valores crescentes:  74\n",
            "Valores crescentes:  75\n",
            "Valores crescentes:  76\n",
            "Valores crescentes:  77\n",
            "Valores crescentes:  78\n",
            "Valores crescentes:  79\n",
            "Valores crescentes:  80\n",
            "Valores crescentes:  81\n",
            "Valores crescentes:  82\n",
            "Valores crescentes:  83\n",
            "Valores crescentes:  84\n",
            "Valores crescentes:  85\n",
            "Valores crescentes:  86\n",
            "Valores crescentes:  87\n",
            "Valores crescentes:  88\n",
            "Valores crescentes:  89\n",
            "Valores crescentes:  90\n",
            "Valores crescentes:  91\n",
            "Valores crescentes:  92\n",
            "Valores crescentes:  93\n",
            "Valores crescentes:  94\n",
            "Valores crescentes:  95\n",
            "Valores crescentes:  96\n",
            "Valores crescentes:  97\n",
            "Valores crescentes:  98\n",
            "Valores crescentes:  99\n",
            "Valores crescentes:  100\n"
          ]
        }
      ]
    },
    {
      "cell_type": "code",
      "source": [
        "#6) Atividade de casa\n",
        "lista=[]\n",
        "\n",
        "valor = 4\n",
        "while valor <=20:\n",
        "  lista.append(valor)\n",
        "  valor +=2\n",
        "print (\"Valores crescentes: \", lista)"
      ],
      "metadata": {
        "colab": {
          "base_uri": "https://localhost:8080/"
        },
        "id": "ieuXCUu0H7yA",
        "outputId": "ec6e293b-80f2-430a-d7c9-769b30898432"
      },
      "execution_count": null,
      "outputs": [
        {
          "output_type": "stream",
          "name": "stdout",
          "text": [
            "Valores crescentes:  [4, 6, 8, 10, 12, 14, 16, 18, 20]\n"
          ]
        }
      ]
    },
    {
      "cell_type": "code",
      "source": [
        "#7) Atividade de casa\n",
        "temperatura = float(input('Qual a temperatura? '))\n",
        "if temperatura > 30:\n",
        "  print('Vista roupas leves')\n",
        "\n",
        "else:\n",
        "  print('Busque seus casacos')"
      ],
      "metadata": {
        "id": "gsgY-3OFJEly"
      },
      "execution_count": null,
      "outputs": []
    },
    {
      "cell_type": "code",
      "source": [
        "#8 e 9) Atividade de casa\n",
        "frase_tupla=tuple('Educacao nao transforma o mundo. Educacao muda pessoas. Pessoas transformam o mundo. (Paulo Freire).')"
      ],
      "metadata": {
        "id": "Jy5ciEyyNb4V"
      },
      "execution_count": null,
      "outputs": []
    },
    {
      "cell_type": "code",
      "source": [
        "frase_tupla"
      ],
      "metadata": {
        "colab": {
          "base_uri": "https://localhost:8080/"
        },
        "id": "eQK2MVU3OADr",
        "outputId": "2ea00f3c-61e5-4ba8-bea8-e55b3f879c96"
      },
      "execution_count": null,
      "outputs": [
        {
          "output_type": "execute_result",
          "data": {
            "text/plain": [
              "('E',\n",
              " 'd',\n",
              " 'u',\n",
              " 'c',\n",
              " 'a',\n",
              " 'c',\n",
              " 'a',\n",
              " 'o',\n",
              " ' ',\n",
              " 'n',\n",
              " 'a',\n",
              " 'o',\n",
              " ' ',\n",
              " 't',\n",
              " 'r',\n",
              " 'a',\n",
              " 'n',\n",
              " 's',\n",
              " 'f',\n",
              " 'o',\n",
              " 'r',\n",
              " 'm',\n",
              " 'a',\n",
              " ' ',\n",
              " 'o',\n",
              " ' ',\n",
              " 'm',\n",
              " 'u',\n",
              " 'n',\n",
              " 'd',\n",
              " 'o',\n",
              " '.',\n",
              " ' ',\n",
              " 'E',\n",
              " 'd',\n",
              " 'u',\n",
              " 'c',\n",
              " 'a',\n",
              " 'c',\n",
              " 'a',\n",
              " 'o',\n",
              " ' ',\n",
              " 'm',\n",
              " 'u',\n",
              " 'd',\n",
              " 'a',\n",
              " ' ',\n",
              " 'p',\n",
              " 'e',\n",
              " 's',\n",
              " 's',\n",
              " 'o',\n",
              " 'a',\n",
              " 's',\n",
              " '.',\n",
              " ' ',\n",
              " 'P',\n",
              " 'e',\n",
              " 's',\n",
              " 's',\n",
              " 'o',\n",
              " 'a',\n",
              " 's',\n",
              " ' ',\n",
              " 't',\n",
              " 'r',\n",
              " 'a',\n",
              " 'n',\n",
              " 's',\n",
              " 'f',\n",
              " 'o',\n",
              " 'r',\n",
              " 'm',\n",
              " 'a',\n",
              " 'm',\n",
              " ' ',\n",
              " 'o',\n",
              " ' ',\n",
              " 'm',\n",
              " 'u',\n",
              " 'n',\n",
              " 'd',\n",
              " 'o',\n",
              " '.',\n",
              " ' ',\n",
              " '(',\n",
              " 'P',\n",
              " 'a',\n",
              " 'u',\n",
              " 'l',\n",
              " 'o',\n",
              " ' ',\n",
              " 'F',\n",
              " 'r',\n",
              " 'e',\n",
              " 'i',\n",
              " 'r',\n",
              " 'e',\n",
              " ')',\n",
              " '.')"
            ]
          },
          "metadata": {},
          "execution_count": 174
        }
      ]
    },
    {
      "cell_type": "code",
      "source": [
        "print(frase_tupla.count('s'))"
      ],
      "metadata": {
        "colab": {
          "base_uri": "https://localhost:8080/"
        },
        "id": "_pOn7pQ3OBit",
        "outputId": "2068c604-89a7-42e2-bfc4-316e426ad7bc"
      },
      "execution_count": null,
      "outputs": [
        {
          "output_type": "stream",
          "name": "stdout",
          "text": [
            "8\n"
          ]
        }
      ]
    },
    {
      "cell_type": "code",
      "source": [
        "#10) Atividade de casa\n",
        "lista=['a','b','c','d','e','f','g','h']\n",
        "print(lista[6:])"
      ],
      "metadata": {
        "colab": {
          "base_uri": "https://localhost:8080/"
        },
        "id": "_7PjGRxJOJ_w",
        "outputId": "0e6c3f06-9b27-4410-f322-b8607fc41a8f"
      },
      "execution_count": null,
      "outputs": [
        {
          "output_type": "stream",
          "name": "stdout",
          "text": [
            "['g', 'h']\n"
          ]
        }
      ]
    },
    {
      "cell_type": "code",
      "source": [
        "#11) Atividade de casa\n",
        "dict1={'a':1,'b':2}\n",
        "dict2={'c':4,'d':5}\n",
        "dict3={}\n",
        "dict3 ['a'] = 4\n",
        "dict3 ['b'] = 5\n",
        "\n",
        "print(dict3)"
      ],
      "metadata": {
        "colab": {
          "base_uri": "https://localhost:8080/"
        },
        "id": "dbd9hsvoO2Ve",
        "outputId": "f9e96ae0-17c0-4ccf-a5a8-6a038ab1517a"
      },
      "execution_count": null,
      "outputs": [
        {
          "output_type": "stream",
          "name": "stdout",
          "text": [
            "{'a': 4, 'b': 5}\n"
          ]
        }
      ]
    },
    {
      "cell_type": "code",
      "source": [
        "#12) Atividade de casa\n",
        "\n",
        "for um_valor in range(10):\n",
        "  print(um_valor)"
      ],
      "metadata": {
        "colab": {
          "base_uri": "https://localhost:8080/"
        },
        "id": "QOg8AwNpSfkc",
        "outputId": "26cb58aa-c595-4470-df09-46712732b584"
      },
      "execution_count": null,
      "outputs": [
        {
          "output_type": "stream",
          "name": "stdout",
          "text": [
            "0\n",
            "1\n",
            "2\n",
            "3\n",
            "4\n",
            "5\n",
            "6\n",
            "7\n",
            "8\n",
            "9\n"
          ]
        }
      ]
    },
    {
      "cell_type": "code",
      "source": [
        "#13) Atividade\n",
        "\n",
        "for um_char in \"Venha para a festa\":\n",
        "  print(um_char)"
      ],
      "metadata": {
        "colab": {
          "base_uri": "https://localhost:8080/"
        },
        "id": "ZJTCeMcmSpxD",
        "outputId": "1163bc89-f02c-48c5-d617-c78fe5d3cb2a"
      },
      "execution_count": null,
      "outputs": [
        {
          "output_type": "stream",
          "name": "stdout",
          "text": [
            "V\n",
            "e\n",
            "n\n",
            "h\n",
            "a\n",
            " \n",
            "p\n",
            "a\n",
            "r\n",
            "a\n",
            " \n",
            "a\n",
            " \n",
            "f\n",
            "e\n",
            "s\n",
            "t\n",
            "a\n"
          ]
        }
      ]
    },
    {
      "cell_type": "code",
      "source": [],
      "metadata": {
        "id": "_1eU3I39S210"
      },
      "execution_count": null,
      "outputs": []
    }
  ]
}