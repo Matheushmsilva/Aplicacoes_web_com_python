{
  "nbformat": 4,
  "nbformat_minor": 0,
  "metadata": {
    "colab": {
      "provenance": [],
      "authorship_tag": "ABX9TyOlAxLZ0RejRpqW7L1ciJy3",
      "include_colab_link": true
    },
    "kernelspec": {
      "name": "python3",
      "display_name": "Python 3"
    },
    "language_info": {
      "name": "python"
    }
  },
  "cells": [
    {
      "cell_type": "markdown",
      "metadata": {
        "id": "view-in-github",
        "colab_type": "text"
      },
      "source": [
        "<a href=\"https://colab.research.google.com/github/Matheushmsilva/Aplicacoes_web_com_python/blob/main/Aula05.ipynb\" target=\"_parent\"><img src=\"https://colab.research.google.com/assets/colab-badge.svg\" alt=\"Open In Colab\"/></a>"
      ]
    },
    {
      "cell_type": "code",
      "execution_count": null,
      "metadata": {
        "id": "054FRi5iusfw"
      },
      "outputs": [],
      "source": [
        "#Matheus Henrique Monte da Silva."
      ]
    },
    {
      "cell_type": "code",
      "source": [
        "#Métodos e Funções\n",
        "\n",
        "# objeto.metodo(arg1,arg2,etc...)"
      ],
      "metadata": {
        "id": "8Ir4kstAvKAt"
      },
      "execution_count": null,
      "outputs": []
    },
    {
      "cell_type": "code",
      "source": [
        "#Exemplos \n",
        "# append() count() insert() pop() remove() sort() ..."
      ],
      "metadata": {
        "id": "gXi0N1WN4PFB"
      },
      "execution_count": null,
      "outputs": []
    },
    {
      "cell_type": "code",
      "source": [
        "#Para consultar quais métodos existem consulte o help.. Para conhecer os métodos você pode utilizar a função help-- \n",
        "#  help(lista.append)  -- e o python te retorna o que este método gaz no teu objeto.\n",
        "#ex\n",
        "\n",
        "# lista[]\n",
        "# help(lista.append)"
      ],
      "metadata": {
        "id": "w7_ojWbb4jgO"
      },
      "execution_count": null,
      "outputs": []
    },
    {
      "cell_type": "code",
      "source": [
        "# Para listar todos os métodos e atributos de um onjeto, basta utilizar o dir, ex..\n",
        "# dir(list)"
      ],
      "metadata": {
        "id": "WasdSN4D4nsa"
      },
      "execution_count": null,
      "outputs": []
    },
    {
      "cell_type": "code",
      "source": [
        "# Funções em Python\n",
        "# São blocos de onstrução que podem ser invocadas de qualquer parte do nosso código, sem precisar reescrever.\n",
        "# Toda função, por definição, possui um nome, pode receber parâmetros e pode retornar valores."
      ],
      "metadata": {
        "id": "XjB4pYyy5YOM"
      },
      "execution_count": null,
      "outputs": []
    },
    {
      "cell_type": "code",
      "source": [
        "#OBS: Nem toda função receberá parâmetros e nem toda função retornará valores."
      ],
      "metadata": {
        "id": "1xuLpVkR6NZZ"
      },
      "execution_count": null,
      "outputs": []
    },
    {
      "cell_type": "code",
      "source": [
        "#Sintaxe\n",
        "# def nome DaFuncao(arg1,arg2,arg3....):\n",
        "# bloco de comandos\n",
        "# return (retorno desejado)"
      ],
      "metadata": {
        "id": "EaPra6_A6w3N"
      },
      "execution_count": null,
      "outputs": []
    },
    {
      "cell_type": "code",
      "source": [
        "# atributos são caracteristicas de um individuo. o objeto é o individuo. os métodos são ações (serão verbos)."
      ],
      "metadata": {
        "id": "sW7HE42C6zyr"
      },
      "execution_count": null,
      "outputs": []
    },
    {
      "cell_type": "code",
      "source": [
        "\n",
        "#Conceitos Importantes de Orientação ao Objeto:\n",
        "# Classes: Abstrações computacionais que representam entidades do mundo real:\n",
        "# Objeto: Instância de uma classe. \n",
        "# Atributos: Caracteristicas ou propriedades do objeto.\n",
        "# Métodos: Ações do Objeto (Funções).\n",
        "# Mensagem: Chamada a um objeto. "
      ],
      "metadata": {
        "id": "rqjOxUll-98j"
      },
      "execution_count": null,
      "outputs": []
    },
    {
      "cell_type": "code",
      "source": [
        "class NomeDeClasse():\n",
        "  \n",
        "  #Construtor de Uma Classe:\n",
        "  def_init_(self):\n",
        "  #Atributos\n",
        "    self.atributo1 = valor1 \n",
        "    self.atributoN = valorN\n",
        "\n",
        "def exemploDeFuncao(self):\n",
        "  return \"Essa é uma função!\"\n",
        "\n",
        "def exemploDeMetodo(self):\n",
        "  print(\"Esse é um método!\")   "
      ],
      "metadata": {
        "id": "TqT3O26r_e-j"
      },
      "execution_count": null,
      "outputs": []
    },
    {
      "cell_type": "code",
      "source": [
        "#Classe: Método Construtor"
      ],
      "metadata": {
        "id": "6W7m7nrkA-3t"
      },
      "execution_count": null,
      "outputs": []
    },
    {
      "cell_type": "code",
      "source": [
        "class ContaCorrente():\n",
        "  def __init__(self):\n",
        "    self.numConta = 159\n",
        "    self.nomeTitular = \"Matheus\"\n",
        "    self.saldo = 0\n",
        "\n",
        "  def __init__(self, numConta, nomeTitular):\n",
        "    self.numConta = numConta\n",
        "    self.nomeTitular = nomeTitular\n",
        "\n",
        "  def __init__(self, numConta, nomeTitular, saldo):\n",
        "    self.numConta = numConta\n",
        "    self.nomeTitular = nomeTitular\n",
        "    self.saldo = saldo\n",
        "  "
      ],
      "metadata": {
        "id": "MUtdp9pOBzC1"
      },
      "execution_count": null,
      "outputs": []
    },
    {
      "cell_type": "code",
      "source": [
        "# Métodos e funções dentro de classes"
      ],
      "metadata": {
        "id": "aVzFP72lDRPd"
      },
      "execution_count": null,
      "outputs": []
    },
    {
      "cell_type": "code",
      "source": [
        "class Lar:\n",
        "  def toctoc(self, pessoa1 = None, pessoa2 = None):\n",
        "    if pessoa1 is not None and pessoa2 is None: #numero 01 para demilitar quem está sendo chamado\n",
        "      print('Ola1 ' + pessoa1)\n",
        "    elif pessoa1 is not None and pessoa2 is not None:\n",
        "      print('Ola2, ' + pessoa1 + ' e ' + pessoa2) #numero 02 para demilitar quem esta sendo chamado\n",
        "    else:\n",
        "      print('Quem está ai: ')    \n",
        "\n",
        "batendoNaPorta = Lar()      \n"
      ],
      "metadata": {
        "id": "riJneYcxEIzq"
      },
      "execution_count": null,
      "outputs": []
    },
    {
      "cell_type": "code",
      "source": [
        "#Sobrecarga do Método toctoc\n",
        "\n",
        "batendoNaPorta.toctoc() #Instancia\n",
        "batendoNaPorta.toctoc('Rick', 'Morty')\n",
        "batendoNaPorta.toctoc('Professora Amanda')"
      ],
      "metadata": {
        "colab": {
          "base_uri": "https://localhost:8080/"
        },
        "id": "bhu0QmGaFAKl",
        "outputId": "95de6696-800d-4bc7-bdc0-0f03df090cef"
      },
      "execution_count": null,
      "outputs": [
        {
          "output_type": "stream",
          "name": "stdout",
          "text": [
            "Quem está ai: \n",
            "Ola2, Rick e Morty\n",
            "Ola1 Professora Amanda\n"
          ]
        }
      ]
    },
    {
      "cell_type": "code",
      "source": [
        "class Lar:\n",
        "  def toctoc(self, pessoa1 = None, pessoa2 = None):\n",
        "    if pessoa1 is not None and pessoa2 is None: #numero 01 para demilitar quem está sendo chamado\n",
        "      print('Ola1 ' + pessoa1)\n",
        "    elif pessoa1 is not None and pessoa2 is not None:\n",
        "      print('Ola2, ' + pessoa1 + ' e ' + pessoa2) #numero 02 para demilitar quem esta sendo chamado\n",
        "    else:\n",
        "      print('Quem está ai: ')    \n",
        "\n",
        "batendoNaPorta = Lar()      \n",
        "#Sobrecarga do Método toctoc\n",
        "\n",
        "batendoNaPorta.toctoc()\n"
      ],
      "metadata": {
        "colab": {
          "base_uri": "https://localhost:8080/"
        },
        "id": "ZyXUjlW-FXYZ",
        "outputId": "029e98c9-902c-40db-ee2d-370663f08a12"
      },
      "execution_count": null,
      "outputs": [
        {
          "output_type": "stream",
          "name": "stdout",
          "text": [
            "Quem está ai: \n"
          ]
        }
      ]
    },
    {
      "cell_type": "code",
      "source": [
        "#Self é sempre o primeiro parâmetro de todos os métodos chamados por uma instânca de uma classe (ou seja, um objeto). Self está sempre apontando para o objeto atual."
      ],
      "metadata": {
        "id": "t6aG9fh0H9XR"
      },
      "execution_count": null,
      "outputs": []
    },
    {
      "cell_type": "code",
      "source": [
        "#Criando uma classe:\n",
        "\n",
        "class Animal():\n",
        "\n",
        "#construtor de classe\n",
        "  def __init__(self, name, weight, color):\n",
        "\n",
        "#atributos\n",
        "    self.nome = name\n",
        "    self.peso = weight\n",
        "    self.corDoPelo = color\n",
        "\n",
        "  def imprimirDados (self):\n",
        "    return(\"Nome: %s \\nPeso: %s\" %(self.nome, self.peso))\n",
        "\n",
        "  def latir(self, barulho):\n",
        "    print(barulho)    \n",
        "\n",
        "\n"
      ],
      "metadata": {
        "id": "cMwxvaKmIjFS"
      },
      "execution_count": null,
      "outputs": []
    },
    {
      "cell_type": "code",
      "source": [
        "#Instanciando um objeto cachorro\n",
        "\n",
        "caozinho = Animal('Marlene', 7.9, 'Caramelo')\n",
        "gato = Animal ('Cibele', 4.5, 'Cinza')\n",
        "\n",
        "#Chamado o método do objeto criado\n",
        "\n",
        "print(caozinho.imprimirDados()) #Instância\n",
        "caozinho.latir('Au, Au!')\n",
        "\n",
        "print(gato.imprimirDados())\n",
        "gato.latir('Miau!')"
      ],
      "metadata": {
        "colab": {
          "base_uri": "https://localhost:8080/"
        },
        "id": "EYdqtaT8Lh5l",
        "outputId": "5cd9a07b-391d-4b89-a4ef-3004ef6a7132"
      },
      "execution_count": null,
      "outputs": [
        {
          "output_type": "stream",
          "name": "stdout",
          "text": [
            "Nome: Marlene \n",
            "Peso: 7.9\n",
            "Au, Au!\n",
            "Nome: Cibele \n",
            "Peso: 4.5\n",
            "Miau!\n"
          ]
        }
      ]
    },
    {
      "cell_type": "code",
      "source": [
        "#Classe Livro\n",
        "\n",
        "#Criando uma classe chamada Livro:\n",
        "\n",
        "class Livro():\n",
        "\n",
        "# Este método vai inicializar cada objeto criado a partir desta classe\n",
        "# O nome deste método é __init__\n",
        "# (self) é uma referência a cada atributo de um objeto criado a apartir desta classe\n",
        "  def __init__(self):\n",
        "\n",
        "   # Atributos de casa objeto criado a partir desta classe.\n",
        "   # O self indica que estes são atributos dos objetos.\n",
        "    self.titulo = 'O Monge e o Executivo'\n",
        "    self.isbn = 9988888\n",
        "    print('Construtor chamado para criar um objeto desta classe')\n",
        "\n",
        "  \n",
        "  #Métodos são funções, que recebem como parâmetro atributos do objeto criado.\n",
        "  def imprime(self):\n",
        "    print('Foi criado o livro %s e ISBN %d' % (self.titulo, self.isbn))  \n",
        "    \n",
        "\n"
      ],
      "metadata": {
        "id": "pmXBhaqiQH1m"
      },
      "execution_count": null,
      "outputs": []
    },
    {
      "cell_type": "code",
      "source": [
        "# Criando uma instância da classe Livro\n",
        "\n",
        "Livro1 = Livro()"
      ],
      "metadata": {
        "colab": {
          "base_uri": "https://localhost:8080/"
        },
        "id": "-ntyJiOkSKLd",
        "outputId": "cde64abf-c694-49d4-9523-3e962f38425c"
      },
      "execution_count": null,
      "outputs": [
        {
          "output_type": "stream",
          "name": "stdout",
          "text": [
            "Construtor chamado para criar um objeto desta classe\n"
          ]
        }
      ]
    },
    {
      "cell_type": "markdown",
      "source": [
        "Construtor chamado para criar um objeto desta classe"
      ],
      "metadata": {
        "id": "2AQj5AiQSVJt"
      }
    },
    {
      "cell_type": "code",
      "source": [
        "# Tipo do Objeto Livro1\n",
        "\n",
        "type(Livro1)"
      ],
      "metadata": {
        "colab": {
          "base_uri": "https://localhost:8080/"
        },
        "id": "X5A6Yl5wSbLF",
        "outputId": "145e22dc-144b-405f-8ae5-55a7a60bf91f"
      },
      "execution_count": null,
      "outputs": [
        {
          "output_type": "execute_result",
          "data": {
            "text/plain": [
              "__main__.Livro"
            ]
          },
          "metadata": {},
          "execution_count": 6
        }
      ]
    },
    {
      "cell_type": "code",
      "source": [
        "# Atributo do objeto Livro1\n",
        "Livro1.titulo"
      ],
      "metadata": {
        "colab": {
          "base_uri": "https://localhost:8080/",
          "height": 36
        },
        "id": "em8eGnTKShLm",
        "outputId": "bb98363e-b75e-460a-c6c3-d0e6fe1bd913"
      },
      "execution_count": null,
      "outputs": [
        {
          "output_type": "execute_result",
          "data": {
            "text/plain": [
              "'O Monge e o Executivo'"
            ],
            "application/vnd.google.colaboratory.intrinsic+json": {
              "type": "string"
            }
          },
          "metadata": {},
          "execution_count": 7
        }
      ]
    },
    {
      "cell_type": "code",
      "source": [
        "# Método do Objeto Livro1\n",
        "Livro1.imprime()"
      ],
      "metadata": {
        "colab": {
          "base_uri": "https://localhost:8080/"
        },
        "id": "dGIkOo4EUGzA",
        "outputId": "a2225e68-c561-434e-fdeb-c24af0ac4bb6"
      },
      "execution_count": null,
      "outputs": [
        {
          "output_type": "stream",
          "name": "stdout",
          "text": [
            "Foi criado o livro O Monge e o Executivo e ISBN 9988888\n"
          ]
        }
      ]
    },
    {
      "cell_type": "code",
      "source": [
        "# Criando a classe Livro com parâmetros no método construtor\n",
        "\n",
        "class Livro():\n",
        "\n",
        "  def __init__(self, titulo, isbn):\n",
        "    self.titulo = titulo\n",
        "    self.isbn = isbn\n",
        "    print('Construtor chamado para criar um objeto desta classe')\n",
        "\n",
        "    def imprime(self, titulo, isbn):\n",
        "      print('Este é o livro %s e ISBN %d' %(titulo, isbn))"
      ],
      "metadata": {
        "id": "jBHDKLPlUXvK"
      },
      "execution_count": null,
      "outputs": []
    },
    {
      "cell_type": "code",
      "source": [
        "# Criando o objetivo Livro2 que é uma instância da classe Livro\n",
        "Livro2 = Livro ('A Menina que Roubava Livros', 77886611)"
      ],
      "metadata": {
        "colab": {
          "base_uri": "https://localhost:8080/"
        },
        "id": "9bgRx4V0Vi4i",
        "outputId": "b800d4d4-65d6-4c44-9a7e-b4e35337d67a"
      },
      "execution_count": null,
      "outputs": [
        {
          "output_type": "stream",
          "name": "stdout",
          "text": [
            "Construtor chamado para criar um objeto desta classe\n"
          ]
        }
      ]
    },
    {
      "cell_type": "code",
      "source": [
        "Livro2.titulo"
      ],
      "metadata": {
        "colab": {
          "base_uri": "https://localhost:8080/",
          "height": 36
        },
        "id": "tEGBy-RlWdFc",
        "outputId": "be745eb0-ad07-4ccd-c030-0cde41166117"
      },
      "execution_count": null,
      "outputs": [
        {
          "output_type": "execute_result",
          "data": {
            "text/plain": [
              "'A Menina que Roubava Livros'"
            ],
            "application/vnd.google.colaboratory.intrinsic+json": {
              "type": "string"
            }
          },
          "metadata": {},
          "execution_count": 12
        }
      ]
    },
    {
      "cell_type": "markdown",
      "source": [
        "USANDO HERANÇA"
      ],
      "metadata": {
        "id": "-Asy6KfVYBjW"
      }
    },
    {
      "cell_type": "code",
      "source": [
        "# Criando a classe Animal - Super - classe\n",
        "\n",
        "class Animal():\n",
        "  def __init__(self):\n",
        "    print('Animal criado')\n",
        "\n",
        "  def identif(self):\n",
        "    print('Animal')\n",
        "\n",
        "  def comer(self):\n",
        "    print('Comendo')    \n"
      ],
      "metadata": {
        "id": "Y_U5Lc7ZWgrB"
      },
      "execution_count": null,
      "outputs": []
    },
    {
      "cell_type": "code",
      "source": [
        "# Criando a classe Cachorro - Sub - classe\n",
        "class Cachorro(Animal):\n",
        "\n",
        "  def __init__(self):\n",
        "    Animal.__init__(self)\n",
        "    print('Objeto Cachorro criado')\n",
        "\n",
        "  def identif(self):\n",
        "    print('Cachorro')\n",
        "\n",
        "  def latir(self):\n",
        "    print('Au Au!')    "
      ],
      "metadata": {
        "id": "W2EpouiaYq-F"
      },
      "execution_count": null,
      "outputs": []
    },
    {
      "cell_type": "code",
      "source": [
        "# Criando um objeto (Instanciando a classe)\n",
        "\n",
        "rex = Cachorro()"
      ],
      "metadata": {
        "colab": {
          "base_uri": "https://localhost:8080/"
        },
        "id": "qMZRxXxhciI2",
        "outputId": "174b91e7-9218-4b4c-a7a2-648f5c35302d"
      },
      "execution_count": null,
      "outputs": [
        {
          "output_type": "stream",
          "name": "stdout",
          "text": [
            "Animal criado\n",
            "Objeto Cachorro criado\n"
          ]
        }
      ]
    },
    {
      "cell_type": "code",
      "source": [
        "# Executando o método da classe Cachorro (sub-classe)\n",
        "rex.identif()"
      ],
      "metadata": {
        "colab": {
          "base_uri": "https://localhost:8080/"
        },
        "id": "2V9hzWwtcwOu",
        "outputId": "552a84e7-f4da-415e-d4b0-5dd356c62c61"
      },
      "execution_count": null,
      "outputs": [
        {
          "output_type": "stream",
          "name": "stdout",
          "text": [
            "Cachorro\n"
          ]
        }
      ]
    },
    {
      "cell_type": "code",
      "source": [
        "# Executando o método da classe Animal (super-classe)\n",
        "\n",
        "rex.comer()"
      ],
      "metadata": {
        "colab": {
          "base_uri": "https://localhost:8080/"
        },
        "id": "mRJDdgMvc__e",
        "outputId": "374a25b3-88ba-446e-e997-42b029611eab"
      },
      "execution_count": null,
      "outputs": [
        {
          "output_type": "stream",
          "name": "stdout",
          "text": [
            "Comendo\n"
          ]
        }
      ]
    },
    {
      "cell_type": "markdown",
      "source": [
        "Exercicio - sala de aula.\n",
        "\n",
        "I)Crie uma classe pessoa com os atributos nome e idade; II) Implemente uma função capaz de retornar o ano que a pessoa nasceu utilizando apenas o valor referente a idade; III) Crie uma lista que armazene 5 pessoas, percorra a lista e mostre na tela todos os dados de forma organizada."
      ],
      "metadata": {
        "id": "uchZ6IBGd1Ts"
      }
    },
    {
      "cell_type": "code",
      "source": [
        "class Pessoa():\n",
        "  def __init__(self):\n",
        "    self.nome = input(\"Insira o seu nome: \")\n",
        "    self.idade = input(\"Insira a sua idade: \")"
      ],
      "metadata": {
        "id": "yARF4aePerOm"
      },
      "execution_count": null,
      "outputs": []
    },
    {
      "cell_type": "code",
      "source": [
        "#....."
      ],
      "metadata": {
        "id": "Bjc2CsDXeUJu"
      },
      "execution_count": null,
      "outputs": []
    },
    {
      "cell_type": "markdown",
      "source": [
        "Exemplo da aula do slide estão abaixo:"
      ],
      "metadata": {
        "id": "yBy4ICZlcSoe"
      }
    },
    {
      "cell_type": "code",
      "source": [
        "#Construtor Mãe\n",
        "\n",
        "class ClasseMae():\n",
        "  def __init__(self, atributo1):\n",
        "    self.atributo1 = atributo1\n",
        "    print('Essa é a classe mãe!')"
      ],
      "metadata": {
        "id": "DGxguyuCZsgV"
      },
      "execution_count": null,
      "outputs": []
    },
    {
      "cell_type": "code",
      "source": [
        "#Construtor da Herdeira\n",
        "\n",
        "class ClasseFilha(ClasseMae):\n",
        "  def __init__(self, atributo1, atributo2):\n",
        "    super().__init__(atributo1)\n",
        "    self.atributo2 = atributo2\n",
        "    print('Essa é a classe herdeira! ')"
      ],
      "metadata": {
        "id": "P93oTffwaFQ1"
      },
      "execution_count": null,
      "outputs": []
    }
  ]
}